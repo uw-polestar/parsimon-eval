{
 "cells": [
  {
   "cell_type": "code",
   "execution_count": 15,
   "metadata": {},
   "outputs": [],
   "source": [
    "import numpy as np\n",
    "import pandas as pd\n",
    "import matplotlib.pyplot as plt\n",
    "import seaborn as sns\n",
    "import json\n",
    "sns.set(style='ticks', context='paper', font='CMU Sans Serif')"
   ]
  },
  {
   "cell_type": "code",
   "execution_count": 16,
   "metadata": {},
   "outputs": [],
   "source": [
    "def find_record(records, matrix, oversub):\n",
    "    for record in records:\n",
    "        has_matrix = matrix in record['spatial']\n",
    "        has_oversub = oversub in record['cluster']\n",
    "        if has_matrix and has_oversub:\n",
    "            return record['id']\n",
    "    print('failed to find record')\n",
    "    return None\n",
    "    \n",
    "def read_normalized_loads(id):\n",
    "    with open(f'../data/{id}/pmn-m/loads.json') as f:\n",
    "        loads = np.array(json.load(f))\n",
    "        loads.sort()\n",
    "        loads = loads[::-1]\n",
    "        loads = loads / loads[0]\n",
    "    return pd.DataFrame(loads, columns=['load'])"
   ]
  },
  {
   "cell_type": "code",
   "execution_count": 17,
   "metadata": {},
   "outputs": [],
   "source": [
    "with open('../spec/all.mix.json') as f:\n",
    "    records = json.load(f)\n",
    "\n",
    "a_1 = find_record(records, 'cluster_a', '1_to_1')\n",
    "a_4 = find_record(records, 'cluster_a', '4_to_1')\n",
    "b_1 = find_record(records, 'cluster_b', '1_to_1')\n",
    "b_4 = find_record(records, 'cluster_b', '4_to_1')\n",
    "c_1 = find_record(records, 'cluster_c', '1_to_1')\n",
    "c_4 = find_record(records, 'cluster_c', '4_to_1')"
   ]
  },
  {
   "cell_type": "code",
   "execution_count": 18,
   "metadata": {},
   "outputs": [],
   "source": [
    "df_a_1 = read_normalized_loads(a_1)\n",
    "df_b_1 = read_normalized_loads(b_1)\n",
    "df_c_1 = read_normalized_loads(c_1)\n",
    "df_a_1.loc[:, 'kind'] = 'Matrix A'\n",
    "df_b_1.loc[:, 'kind'] = 'Matrix B'\n",
    "df_c_1.loc[:, 'kind'] = 'Matrix C'\n",
    "df_1 = pd.concat([df_a_1, df_b_1, df_c_1], ignore_index=True)\n",
    "df_1['pct'] = df_1.groupby(by=['kind'], as_index=False)['load'].rank(pct=True)\n",
    "df_1.loc[:, 'oversub'] = '1-to-1'"
   ]
  },
  {
   "cell_type": "code",
   "execution_count": 19,
   "metadata": {},
   "outputs": [],
   "source": [
    "df_a_4 = read_normalized_loads(a_4)\n",
    "df_b_4 = read_normalized_loads(b_4)\n",
    "df_c_4 = read_normalized_loads(c_4)\n",
    "df_a_4.loc[:, 'kind'] = 'Matrix A'\n",
    "df_b_4.loc[:, 'kind'] = 'Matrix B'\n",
    "df_c_4.loc[:, 'kind'] = 'Matrix C'\n",
    "df_4 = pd.concat([df_a_4, df_b_4, df_c_4], ignore_index=True)\n",
    "df_4['pct'] = df_4.groupby(by=['kind'], as_index=False)['load'].rank(pct=True)\n",
    "df_4.loc[:, 'oversub'] = '4-to-1'"
   ]
  },
  {
   "cell_type": "code",
   "execution_count": 27,
   "metadata": {},
   "outputs": [
    {
     "data": {
      "image/png": "[encoded data removed]",
      "text/plain": [
       "<Figure size 324x72 with 2 Axes>"
      ]
     },
     "metadata": {},
     "output_type": "display_data"
    }
   ],
   "source": [
    "df = pd.concat([df_1, df_4])\n",
    "fig, axs = plt.subplots(nrows=1, ncols=2, figsize=(4.5, 1), sharey=True)\n",
    "for i, oversub in enumerate(['1-to-1', '4-to-1']):\n",
    "    ax = sns.lineplot(x='load', y='pct', hue='kind', style='kind', data=df[df['oversub'] == oversub], ax=axs[i], ci=None)\n",
    "    ax.set_title(f'{oversub} oversubscription')\n",
    "    ax.set_xlabel('Normalized load')\n",
    "    ax.set_ylabel('CDF')\n",
    "    handles = ax.get_legend().get_lines()\n",
    "    ax.get_legend().remove()\n",
    "# XXX: This is a dirty hack. Comment the above line to check handles and labels match up before doing anything.\n",
    "fig.legend(handles=handles, labels=['Matrix A', 'Matrix B', 'Matrix C'], loc='upper center', frameon=False, ncol=3, bbox_to_anchor=(0.48, 1.4))\n",
    "sns.despine()\n",
    "plt.savefig('figs/link-loads.pdf', bbox_inches='tight')"
   ]
  }
 ],
 "metadata": {
  "interpreter": {
   "hash": "916dbcbb3f70747c44a77c7bcd40155683ae19c65e1c03b4aa3499c5328201f1"
  },
  "kernelspec": {
   "display_name": "Python 3.9.7 64-bit",
   "language": "python",
   "name": "python3"
  },
  "language_info": {
   "codemirror_mode": {
    "name": "ipython",
    "version": 3
   },
   "file_extension": ".py",
   "mimetype": "text/x-python",
   "name": "python",
   "nbconvert_exporter": "python",
   "pygments_lexer": "ipython3",
   "version": "3.9.7"
  },
  "orig_nbformat": 4
 },
 "nbformat": 4,
 "nbformat_minor": 2
}
