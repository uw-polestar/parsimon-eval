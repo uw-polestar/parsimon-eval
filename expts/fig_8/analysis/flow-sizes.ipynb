{
 "cells": [
  {
   "cell_type": "code",
   "execution_count": 2,
   "metadata": {},
   "outputs": [],
   "source": [
    "import pandas as pd\n",
    "import matplotlib.pyplot as plt\n",
    "import seaborn as sns\n",
    "sns.set(style='ticks', context='paper', font='CMU Sans Serif')"
   ]
  },
  {
   "cell_type": "code",
   "execution_count": 3,
   "metadata": {},
   "outputs": [],
   "source": [
    "df1 = pd.read_csv('../../../workload/distributions/facebook/cachefollower-all-extract.csv', header=None, names=['x', 'y'])\n",
    "df2 = pd.read_csv('../../../workload/distributions/facebook/webserver-all-extract.csv', header=None, names=['x', 'y'])\n",
    "df3 = pd.read_csv('../../../workload/distributions/facebook/hadoop-all-extract.csv', header=None, names=['x', 'y'])\n",
    "\n",
    "df1.loc[:, 'kind'] = 'CacheFollower'\n",
    "df2.loc[:, 'kind'] = 'WebServer'\n",
    "df3.loc[:, 'kind'] = 'Hadoop'\n",
    "\n",
    "df = pd.concat([df1, df2, df3], ignore_index=True)"
   ]
  },
  {
   "cell_type": "markdown",
   "metadata": {},
   "source": []
  },
  {
   "cell_type": "code",
   "execution_count": 13,
   "metadata": {},
   "outputs": [
    {
     "data": {
      "image/png": "[encoded data removed]",
      "text/plain": [
       "<Figure size 165.6x72 with 1 Axes>"
      ]
     },
     "metadata": {},
     "output_type": "display_data"
    }
   ],
   "source": [
    "plt.figure(figsize=(2.3, 1.0))\n",
    "ax = sns.lineplot(data=df, x='x', y='y', hue='kind', style ='kind', ci=None)\n",
    "ax.get_legend().set_title(None)\n",
    "ax.get_legend().set_frame_on(False)\n",
    "sns.despine()\n",
    "plt.xscale('log')\n",
    "plt.xlabel('Flow size (KB, log scale)')\n",
    "plt.ylabel('CDF')\n",
    "plt.legend(loc='upper center', frameon=False, ncol=2, bbox_to_anchor=(0.43, 1.7))\n",
    "plt.savefig('figs/flow-sizes.pdf', bbox_inches='tight')"
   ]
  }
 ],
 "metadata": {
  "interpreter": {
   "hash": "916dbcbb3f70747c44a77c7bcd40155683ae19c65e1c03b4aa3499c5328201f1"
  },
  "kernelspec": {
   "display_name": "Python 3.9.7 64-bit",
   "language": "python",
   "name": "python3"
  },
  "language_info": {
   "codemirror_mode": {
    "name": "ipython",
    "version": 3
   },
   "file_extension": ".py",
   "mimetype": "text/x-python",
   "name": "python",
   "nbconvert_exporter": "python",
   "pygments_lexer": "ipython3",
   "version": "3.9.7"
  },
  "orig_nbformat": 4
 },
 "nbformat": 4,
 "nbformat_minor": 2
}
