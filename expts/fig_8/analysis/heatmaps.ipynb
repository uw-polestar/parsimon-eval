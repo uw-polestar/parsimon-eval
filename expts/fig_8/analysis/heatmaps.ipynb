{
 "cells": [
  {
   "cell_type": "code",
   "execution_count": 1,
   "metadata": {},
   "outputs": [],
   "source": [
    "import numpy as np\n",
    "import pandas as pd\n",
    "import matplotlib.pyplot as plt\n",
    "import seaborn as sns\n",
    "import json\n",
    "from matplotlib.colors import LogNorm\n",
    "sns.set(style='white', context='paper', font='CMU Sans Serif')"
   ]
  },
  {
   "cell_type": "code",
   "execution_count": 2,
   "metadata": {},
   "outputs": [],
   "source": [
    "def read_matrix(path):\n",
    "    with open(path) as f:\n",
    "        matrix = json.load(f)['matrix']['inner']\n",
    "        matrix = np.array(matrix)\n",
    "    return matrix\n",
    "    \n",
    "def prepare_matrices(matrices):\n",
    "    global_max = max([matrix.max() for matrix in matrices])\n",
    "    new_matrices = []\n",
    "    for matrix in matrices:\n",
    "        local_max = matrix.max();\n",
    "        new_matrix = matrix / local_max * global_max\n",
    "        new_matrix = new_matrix + 1 # ensure there are no 0 values for log-scale\n",
    "        new_matrices.append(new_matrix)\n",
    "    return new_matrices\n",
    "\n",
    "    "
   ]
  },
  {
   "cell_type": "code",
   "execution_count": 3,
   "metadata": {},
   "outputs": [],
   "source": [
    "a_ = read_matrix('../../../workload/spatials/cluster_a_2_16.json');\n",
    "b_ = read_matrix('../../../workload/spatials/cluster_b_2_16.json');\n",
    "c_ = read_matrix('../../../workload/spatials/cluster_c_2_16.json');\n",
    "matrices = prepare_matrices([a_, b_, c_])\n",
    "a = matrices[0]\n",
    "b = matrices[1]\n",
    "c = matrices[2]\n"
   ]
  },
  {
   "cell_type": "code",
   "execution_count": 4,
   "metadata": {},
   "outputs": [
    {
     "name": "stderr",
     "output_type": "stream",
     "text": [
      "findfont: Font family 'CMU Sans Serif' not found.\n",
      "findfont: Font family 'CMU Sans Serif' not found.\n",
      "findfont: Font family 'CMU Sans Serif' not found.\n",
      "findfont: Font family 'CMU Sans Serif' not found.\n",
      "findfont: Font family 'CMU Sans Serif' not found.\n",
      "findfont: Font family 'CMU Sans Serif' not found.\n",
      "findfont: Font family 'CMU Sans Serif' not found.\n",
      "findfont: Font family 'CMU Sans Serif' not found.\n",
      "findfont: Font family 'CMU Sans Serif' not found.\n",
      "findfont: Font family 'CMU Sans Serif' not found.\n",
      "findfont: Font family 'CMU Sans Serif' not found.\n",
      "findfont: Font family 'CMU Sans Serif' not found.\n",
      "findfont: Font family 'CMU Sans Serif' not found.\n",
      "findfont: Font family 'CMU Sans Serif' not found.\n",
      "findfont: Font family 'CMU Sans Serif' not found.\n",
      "findfont: Font family 'CMU Sans Serif' not found.\n",
      "findfont: Font family 'CMU Sans Serif' not found.\n",
      "findfont: Font family 'CMU Sans Serif' not found.\n",
      "findfont: Font family 'CMU Sans Serif' not found.\n",
      "findfont: Font family 'CMU Sans Serif' not found.\n",
      "findfont: Font family 'CMU Sans Serif' not found.\n",
      "findfont: Font family 'CMU Sans Serif' not found.\n",
      "findfont: Font family 'CMU Sans Serif' not found.\n",
      "findfont: Font family 'CMU Sans Serif' not found.\n",
      "findfont: Font family 'CMU Sans Serif' not found.\n",
      "findfont: Font family 'CMU Sans Serif' not found.\n",
      "findfont: Font family ['CMU Sans Serif'] not found. Falling back to DejaVu Sans.\n",
      "findfont: Font family 'CMU Sans Serif' not found.\n",
      "findfont: Font family 'CMU Sans Serif' not found.\n",
      "findfont: Font family 'CMU Sans Serif' not found.\n",
      "findfont: Font family 'CMU Sans Serif' not found.\n",
      "findfont: Font family 'CMU Sans Serif' not found.\n",
      "findfont: Font family 'CMU Sans Serif' not found.\n",
      "findfont: Font family 'CMU Sans Serif' not found.\n",
      "findfont: Font family 'CMU Sans Serif' not found.\n",
      "findfont: Font family 'CMU Sans Serif' not found.\n",
      "findfont: Font family 'CMU Sans Serif' not found.\n",
      "findfont: Font family 'CMU Sans Serif' not found.\n",
      "findfont: Font family 'CMU Sans Serif' not found.\n",
      "findfont: Font family 'CMU Sans Serif' not found.\n",
      "findfont: Font family 'CMU Sans Serif' not found.\n",
      "findfont: Font family 'CMU Sans Serif' not found.\n",
      "findfont: Font family 'CMU Sans Serif' not found.\n",
      "findfont: Font family 'CMU Sans Serif' not found.\n",
      "findfont: Font family 'CMU Sans Serif' not found.\n",
      "findfont: Font family 'CMU Sans Serif' not found.\n",
      "findfont: Font family 'CMU Sans Serif' not found.\n",
      "findfont: Font family 'CMU Sans Serif' not found.\n",
      "findfont: Font family 'CMU Sans Serif' not found.\n",
      "findfont: Font family 'CMU Sans Serif' not found.\n",
      "findfont: Font family 'CMU Sans Serif' not found.\n",
      "findfont: Font family 'CMU Sans Serif' not found.\n",
      "findfont: Font family 'CMU Sans Serif' not found.\n",
      "findfont: Font family 'CMU Sans Serif' not found.\n",
      "findfont: Font family 'CMU Sans Serif' not found.\n",
      "findfont: Font family 'CMU Sans Serif' not found.\n",
      "findfont: Font family 'CMU Sans Serif' not found.\n",
      "findfont: Font family 'CMU Sans Serif' not found.\n",
      "findfont: Font family 'CMU Sans Serif' not found.\n",
      "findfont: Font family 'CMU Sans Serif' not found.\n",
      "findfont: Font family 'CMU Sans Serif' not found.\n",
      "findfont: Font family 'CMU Sans Serif' not found.\n",
      "findfont: Font family 'CMU Sans Serif' not found.\n",
      "findfont: Font family 'CMU Sans Serif' not found.\n",
      "findfont: Font family 'CMU Sans Serif' not found.\n",
      "findfont: Font family 'CMU Sans Serif' not found.\n",
      "findfont: Font family 'CMU Sans Serif' not found.\n"
     ]
    },
    {
     "data": {
      "image/png": "[encoded data removed]",
      "text/plain": [
       "<Figure size 400x400 with 6 Axes>"
      ]
     },
     "metadata": {},
     "output_type": "display_data"
    }
   ],
   "source": [
    "label_and_data = [('Matrix A', a), ('Matrix B', b), ('Matrix C', c)]\n",
    "fig, axs = plt.subplots(nrows=1, ncols=3, figsize=(4, 4))\n",
    "for i, (label, data) in enumerate(label_and_data):\n",
    "    ax = sns.heatmap(data=data, norm=LogNorm(), xticklabels=False, yticklabels=False, square=True, ax=axs[i], cbar_kws={'location':'top'})\n",
    "    ax.set_xlabel(label, labelpad=15)\n",
    "fig.tight_layout()\n",
    "plt.savefig('figs/matrices.pdf', bbox_inches='tight')"
   ]
  }
 ],
 "metadata": {
  "kernelspec": {
   "display_name": "Python 3.9.16 ('py39': conda)",
   "language": "python",
   "name": "python3"
  },
  "language_info": {
   "codemirror_mode": {
    "name": "ipython",
    "version": 3
   },
   "file_extension": ".py",
   "mimetype": "text/x-python",
   "name": "python",
   "nbconvert_exporter": "python",
   "pygments_lexer": "ipython3",
   "version": "3.9.16"
  },
  "orig_nbformat": 4,
  "vscode": {
   "interpreter": {
    "hash": "c5a9d5dd4e1fc0a60d26885c2e66a11597156a0878a79f60c2de05f9498bedbe"
   }
  }
 },
 "nbformat": 4,
 "nbformat_minor": 2
}
