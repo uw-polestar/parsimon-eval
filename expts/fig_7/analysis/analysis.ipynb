{
 "cells": [
  {
   "cell_type": "code",
   "execution_count": null,
   "metadata": {},
   "outputs": [],
   "source": [
    "import pandas as pd\n",
    "import seaborn as sns\n",
    "import matplotlib.pyplot as plt\n",
    "sns.set(style='ticks', context='talk', font='CMU Sans Serif')"
   ]
  },
  {
   "cell_type": "code",
   "execution_count": null,
   "metadata": {},
   "outputs": [],
   "source": [
    "mix_id = 1\n",
    "mix_dir = f'../data/{mix_id}'\n",
    "df_ns3 = pd.read_csv(f'{mix_dir}/ns3/records.csv').sample(n=2_000_000)\n",
    "df_pmn_m = pd.read_csv(f'{mix_dir}/pmn-m/records.csv').sample(n=2_000_000)\n",
    "# df_pmn_mc = pd.read_csv(f'{mix_dir}/pmn-mc/records.csv').sample(n=2_000_000)\n",
    "# df = pd.concat([df_ns3, df_pmn_m, df_pmn_mc], ignore_index=True)\n",
    "df = pd.concat([df_ns3, df_pmn_m], ignore_index=True)\n",
    "df.loc[df['size'] < 10_000, 'bin'] = 'Smaller than 10 KB'\n",
    "df.loc[(10_000 <= df['size']) & (df['size'] < 100_000), 'bin'] = '10 KB to 100 KB'\n",
    "df.loc[(100_000 <= df['size']) & (df['size'] <= 1_000_000), 'bin'] = '100 KB to 1 MB'\n",
    "df.loc[1_000_000 < df['size'], 'bin'] = 'Larger than 1 MB'\n",
    "df['pct'] = df.groupby(by=['sim', 'bin'], as_index=False)['slowdown'].rank(pct=True)"
   ]
  },
  {
   "cell_type": "code",
   "execution_count": null,
   "metadata": {},
   "outputs": [],
   "source": [
    "mix_id = 1\n",
    "mix_dir = f'../data/{mix_id}'\n",
    "df_ns3 = pd.read_csv(f'{mix_dir}/ns3/records.csv').sample(n=2_000_000)\n",
    "df_pmn_m = pd.read_csv(f'{mix_dir}/pmn-m/records.csv').sample(n=2_000_000)\n",
    "df = pd.concat([df_ns3, df_pmn_m], ignore_index=True)\n",
    "df.loc[df['size'] < 10_000, 'bin'] = 'Smaller than 10 KB'\n",
    "df.loc[(10_000 <= df['size']) & (df['size'] < 100_000), 'bin'] = '10 KB to 100 KB'\n",
    "df.loc[(100_000 <= df['size']) & (df['size'] <= 1_000_000), 'bin'] = '100 KB to 1 MB'\n",
    "df.loc[1_000_000 < df['size'], 'bin'] = 'Larger than 1 MB'\n",
    "df['pct'] = df.groupby(by=['sim', 'bin'], as_index=False)['slowdown'].rank(pct=True)"
   ]
  },
  {
   "cell_type": "code",
   "execution_count": null,
   "metadata": {},
   "outputs": [],
   "source": [
    "fig, axs = plt.subplots(nrows=1, ncols=4, figsize=(20, 2), sharey=True)\n",
    "for i, bin in enumerate(['Smaller than 10 KB', '10 KB to 100 KB', '100 KB to 1 MB', 'Larger than 1 MB']):\n",
    "    ax = sns.lineplot(x='slowdown', y='pct', hue='sim', style='sim', data=df[df['bin'] == bin], ax=axs[i], ci=None)\n",
    "    ax.set_title(f'{bin}')\n",
    "    ax.set_ylim((0.8, 1.0))\n",
    "    ax.set_xlabel('FCT slowdown')\n",
    "    ax.set_ylabel('CDF')\n",
    "    handles = ax.get_legend().get_lines()\n",
    "    ax.get_legend().remove()\n",
    "# XXX: This is a dirty hack. Comment the above line to check handles and labels match up before doing anything.\n",
    "fig.legend(handles=handles, labels=['ns-3', 'Parsimon', 'Parsimon/C'], loc='upper center', frameon=False, ncol=4, bbox_to_anchor=(0.5, 1.3))\n",
    "sns.despine()\n",
    "plt.savefig('figs/large-scale.pdf', bbox_inches='tight')\n"
   ]
  },
  {
   "cell_type": "code",
   "execution_count": null,
   "metadata": {},
   "outputs": [],
   "source": [
    "# dont' sample for numbers\n",
    "df_ns3 = pd.read_csv(f'{mix_dir}/ns3/records.csv')\n",
    "df_pmn_m = pd.read_csv(f'{mix_dir}/pmn-m/records.csv')\n",
    "p99_ns3 = df_ns3['slowdown'].quantile(q=0.99)\n",
    "p99_pmn_m = df_pmn_m['slowdown'].quantile(q=0.99)\n",
    "print((p99_pmn_m - p99_ns3) / p99_ns3)"
   ]
  },
  {
   "cell_type": "code",
   "execution_count": null,
   "metadata": {},
   "outputs": [],
   "source": [
    "# dont' sample for numbers\n",
    "df_ns3 = pd.read_csv(f'{mix_dir}/ns3/records.csv')\n",
    "df_pmn_m = pd.read_csv(f'{mix_dir}/pmn-m/records.csv')\n",
    "df_pmn_mc = pd.read_csv(f'{mix_dir}/pmn-mc/records.csv')\n",
    "p99_ns3 = df_ns3['slowdown'].quantile(q=0.99)\n",
    "p99_pmn_m = df_pmn_m['slowdown'].quantile(q=0.99)\n",
    "p99_pmn_mc = df_pmn_mc['slowdown'].quantile(q=0.99)\n",
    "print((p99_pmn_m - p99_ns3) / p99_ns3)\n",
    "print((p99_pmn_mc - p99_ns3) / p99_ns3)"
   ]
  }
 ],
 "metadata": {
  "kernelspec": {
   "display_name": "Python 3.9.16 ('py39': conda)",
   "language": "python",
   "name": "python3"
  },
  "language_info": {
   "codemirror_mode": {
    "name": "ipython",
    "version": 3
   },
   "file_extension": ".py",
   "mimetype": "text/x-python",
   "name": "python",
   "nbconvert_exporter": "python",
   "pygments_lexer": "ipython3",
   "version": "3.8.13"
  },
  "orig_nbformat": 4,
  "vscode": {
   "interpreter": {
    "hash": "c5a9d5dd4e1fc0a60d26885c2e66a11597156a0878a79f60c2de05f9498bedbe"
   }
  }
 },
 "nbformat": 4,
 "nbformat_minor": 2
}
